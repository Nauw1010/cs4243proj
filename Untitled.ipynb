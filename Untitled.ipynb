{
 "cells": [
  {
   "cell_type": "code",
   "execution_count": 1,
   "id": "12d33273-5b3a-4553-985a-5f0135293072",
   "metadata": {},
   "outputs": [
    {
     "name": "stdout",
     "output_type": "stream",
     "text": [
      "../data/dataset/WBC_1/train/data/Lymphocyte/95-8-20-4_172_1.jpg 2 ../data/dataset/WBC_1/train/mask/Lymphocyte/95-8-20-4_172_1.jpg\n"
     ]
    }
   ],
   "source": [
    "%load_ext autoreload\n",
    "%autoreload 2\n",
    "\n",
    "from data_utils import WBCdataset\n",
    "from torchvision import transforms\n",
    "\n",
    "label_dict = {\n",
    "    'Basophil': 0,\n",
    "    'Eosinophil': 1,\n",
    "    'Lymphocyte': 2,\n",
    "    'Monocyte': 3,\n",
    "    'Neutrophil': 4,\n",
    "}\n",
    "\n",
    "data_transforms = [\n",
    "        transforms.ToTensor(), # Scales data into [0,1]\n",
    "    ]\n",
    "data_transform = transforms.Compose(data_transforms)\n",
    "\n",
    "WBC = WBCdataset(path_to_folder='../data/dataset/WBC_1/train', label_dict=label_dict, transform=data_transform)\n",
    "\n",
    "print(WBC.image_paths[16], WBC.labels[16], WBC.mask_paths[16])"
   ]
  },
  {
   "cell_type": "code",
   "execution_count": 2,
   "id": "1b7c6cb1-b46d-4689-93a2-8a5d7d30654a",
   "metadata": {},
   "outputs": [
    {
     "name": "stdout",
     "output_type": "stream",
     "text": [
      "<PIL.JpegImagePlugin.JpegImageFile image mode=RGB size=575x575 at 0x7F1C1A92ED40>\n"
     ]
    }
   ],
   "source": [
    "from utils import read_image\n",
    "\n",
    "print(read_image(WBC.image_paths[16]))"
   ]
  },
  {
   "cell_type": "code",
   "execution_count": 3,
   "id": "f752eb8b-8e29-4498-b7bc-f9b8599e7c15",
   "metadata": {},
   "outputs": [
    {
     "data": {
      "text/plain": [
       "[tensor([[[[0.3765, 0.3843, 0.3765,  ..., 0.7333, 0.7373, 0.7373],\n",
       "           [0.3804, 0.3843, 0.3765,  ..., 0.7333, 0.7373, 0.7373],\n",
       "           [0.3843, 0.3765, 0.3686,  ..., 0.7333, 0.7333, 0.7333],\n",
       "           ...,\n",
       "           [0.6824, 0.6941, 0.7020,  ..., 0.5059, 0.5059, 0.5098],\n",
       "           [0.6902, 0.6941, 0.6980,  ..., 0.5020, 0.4980, 0.4980],\n",
       "           [0.6863, 0.6863, 0.6824,  ..., 0.5098, 0.5020, 0.4863]],\n",
       " \n",
       "          [[0.3490, 0.3569, 0.3490,  ..., 0.6706, 0.6745, 0.6745],\n",
       "           [0.3529, 0.3569, 0.3490,  ..., 0.6706, 0.6745, 0.6745],\n",
       "           [0.3569, 0.3490, 0.3412,  ..., 0.6706, 0.6706, 0.6706],\n",
       "           ...,\n",
       "           [0.6157, 0.6275, 0.6353,  ..., 0.4706, 0.4706, 0.4745],\n",
       "           [0.6235, 0.6275, 0.6314,  ..., 0.4667, 0.4627, 0.4627],\n",
       "           [0.6196, 0.6196, 0.6157,  ..., 0.4745, 0.4667, 0.4549]],\n",
       " \n",
       "          [[0.4706, 0.4784, 0.4706,  ..., 0.6118, 0.6157, 0.6157],\n",
       "           [0.4745, 0.4784, 0.4706,  ..., 0.6118, 0.6157, 0.6157],\n",
       "           [0.4784, 0.4706, 0.4627,  ..., 0.6118, 0.6118, 0.6118],\n",
       "           ...,\n",
       "           [0.5843, 0.5961, 0.6039,  ..., 0.5529, 0.5529, 0.5569],\n",
       "           [0.5922, 0.5961, 0.6000,  ..., 0.5490, 0.5451, 0.5451],\n",
       "           [0.5882, 0.5882, 0.5843,  ..., 0.5569, 0.5490, 0.5373]]]]),\n",
       " tensor([0])]"
      ]
     },
     "execution_count": 3,
     "metadata": {},
     "output_type": "execute_result"
    }
   ],
   "source": [
    "from torch.utils.data import DataLoader\n",
    "\n",
    "WBC_loader = DataLoader(WBC)\n",
    "\n",
    "next(iter(WBC_loader))"
   ]
  },
  {
   "cell_type": "code",
   "execution_count": 2,
   "id": "1b1bf30b-b4e5-4d02-9278-09faa6e8be88",
   "metadata": {},
   "outputs": [],
   "source": []
  },
  {
   "cell_type": "code",
   "execution_count": null,
   "id": "d1187da4-f1b5-45de-8faf-6e87b9444026",
   "metadata": {},
   "outputs": [],
   "source": []
  }
 ],
 "metadata": {
  "kernelspec": {
   "display_name": "Python 3 (ipykernel)",
   "language": "python",
   "name": "python3"
  },
  "language_info": {
   "codemirror_mode": {
    "name": "ipython",
    "version": 3
   },
   "file_extension": ".py",
   "mimetype": "text/x-python",
   "name": "python",
   "nbconvert_exporter": "python",
   "pygments_lexer": "ipython3",
   "version": "3.10.12"
  }
 },
 "nbformat": 4,
 "nbformat_minor": 5
}

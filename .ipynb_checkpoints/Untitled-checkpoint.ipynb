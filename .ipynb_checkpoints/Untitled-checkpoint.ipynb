{
 "cells": [
  {
   "cell_type": "code",
   "execution_count": 1,
   "id": "12d33273-5b3a-4553-985a-5f0135293072",
   "metadata": {},
   "outputs": [
    {
     "ename": "TypeError",
     "evalue": "WBCdataset.__init__() missing 1 required positional argument: 'transform'",
     "output_type": "error",
     "traceback": [
      "\u001b[0;31m---------------------------------------------------------------------------\u001b[0m",
      "\u001b[0;31mTypeError\u001b[0m                                 Traceback (most recent call last)",
      "Cell \u001b[0;32mIn[1], line 11\u001b[0m\n\u001b[1;32m      1\u001b[0m \u001b[38;5;28;01mfrom\u001b[39;00m \u001b[38;5;21;01mdata_utils\u001b[39;00m \u001b[38;5;28;01mimport\u001b[39;00m WBCdataset\n\u001b[1;32m      3\u001b[0m label_dict \u001b[38;5;241m=\u001b[39m {\n\u001b[1;32m      4\u001b[0m     \u001b[38;5;124m'\u001b[39m\u001b[38;5;124mBasophil\u001b[39m\u001b[38;5;124m'\u001b[39m: \u001b[38;5;241m0\u001b[39m,\n\u001b[1;32m      5\u001b[0m     \u001b[38;5;124m'\u001b[39m\u001b[38;5;124mEosinophil\u001b[39m\u001b[38;5;124m'\u001b[39m: \u001b[38;5;241m1\u001b[39m,\n\u001b[0;32m   (...)\u001b[0m\n\u001b[1;32m      8\u001b[0m     \u001b[38;5;124m'\u001b[39m\u001b[38;5;124mNeutrophil\u001b[39m\u001b[38;5;124m'\u001b[39m: \u001b[38;5;241m4\u001b[39m,\n\u001b[1;32m      9\u001b[0m }\n\u001b[0;32m---> 11\u001b[0m WBC \u001b[38;5;241m=\u001b[39m \u001b[43mWBCdataset\u001b[49m\u001b[43m(\u001b[49m\u001b[43mpath_to_folder\u001b[49m\u001b[38;5;241;43m=\u001b[39;49m\u001b[38;5;124;43m'\u001b[39;49m\u001b[38;5;124;43m../data/dataset/WBC_1/train\u001b[39;49m\u001b[38;5;124;43m'\u001b[39;49m\u001b[43m,\u001b[49m\u001b[43m \u001b[49m\u001b[43mlabel_dict\u001b[49m\u001b[38;5;241;43m=\u001b[39;49m\u001b[43mlabel_dict\u001b[49m\u001b[43m)\u001b[49m\n\u001b[1;32m     13\u001b[0m \u001b[38;5;28mprint\u001b[39m(WBC\u001b[38;5;241m.\u001b[39mimage_paths[\u001b[38;5;241m16\u001b[39m], WBC\u001b[38;5;241m.\u001b[39mlabels[\u001b[38;5;241m16\u001b[39m], WBC\u001b[38;5;241m.\u001b[39mmask_paths[\u001b[38;5;241m16\u001b[39m])\n",
      "\u001b[0;31mTypeError\u001b[0m: WBCdataset.__init__() missing 1 required positional argument: 'transform'"
     ]
    }
   ],
   "source": [
    "from data_utils import WBCdataset\n",
    "from torchvision import transforms\n",
    "\n",
    "label_dict = {\n",
    "    'Basophil': 0,\n",
    "    'Eosinophil': 1,\n",
    "    'Lymphocyte': 2,\n",
    "    'Monocyte': 3,\n",
    "    'Neutrophil': 4,\n",
    "}\n",
    "\n",
    "data_transforms = [\n",
    "        transforms.ToTensor(), # Scales data into [0,1]\n",
    "    ]\n",
    "data_transform = transforms.Compose(data_transforms)\n",
    "\n",
    "WBC = WBCdataset(path_to_folder='../data/dataset/WBC_1/train', label_dict=label_dict, transform=data_transform)\n",
    "\n",
    "print(WBC.image_paths[16], WBC.labels[16], WBC.mask_paths[16])"
   ]
  },
  {
   "cell_type": "code",
   "execution_count": null,
   "id": "1b7c6cb1-b46d-4689-93a2-8a5d7d30654a",
   "metadata": {},
   "outputs": [],
   "source": [
    "from utils import read_image\n",
    "\n",
    "print(read_image(WBC.image_paths[16]))"
   ]
  },
  {
   "cell_type": "code",
   "execution_count": null,
   "id": "f752eb8b-8e29-4498-b7bc-f9b8599e7c15",
   "metadata": {},
   "outputs": [],
   "source": [
    "from torch.utils.data import DataLoader\n",
    "\n",
    "WBC_loader = DataLoader(WBC)\n",
    "\n",
    "next(iter(WBC_loader))"
   ]
  },
  {
   "cell_type": "code",
   "execution_count": null,
   "id": "1b1bf30b-b4e5-4d02-9278-09faa6e8be88",
   "metadata": {},
   "outputs": [],
   "source": []
  }
 ],
 "metadata": {
  "kernelspec": {
   "display_name": "Python 3 (ipykernel)",
   "language": "python",
   "name": "python3"
  },
  "language_info": {
   "codemirror_mode": {
    "name": "ipython",
    "version": 3
   },
   "file_extension": ".py",
   "mimetype": "text/x-python",
   "name": "python",
   "nbconvert_exporter": "python",
   "pygments_lexer": "ipython3",
   "version": "3.10.12"
  }
 },
 "nbformat": 4,
 "nbformat_minor": 5
}
